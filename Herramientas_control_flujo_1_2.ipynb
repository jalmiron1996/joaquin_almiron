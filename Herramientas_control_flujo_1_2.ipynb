{
 "cells": [
  {
   "cell_type": "markdown",
   "metadata": {},
   "source": [
    "# 1. CONDICIONALES"
   ]
  },
  {
   "cell_type": "markdown",
   "metadata": {},
   "source": [
    "### 1.1 If simple"
   ]
  },
  {
   "cell_type": "code",
   "execution_count": 1,
   "metadata": {},
   "outputs": [
    {
     "output_type": "stream",
     "name": "stdout",
     "text": [
      "El valor  5  positivo\n"
     ]
    }
   ],
   "source": [
    "x = 5\n",
    "\n",
    "if x > 0:\n",
    "    print('El valor ', x, ' positivo')"
   ]
  },
  {
   "cell_type": "code",
   "execution_count": 3,
   "metadata": {},
   "outputs": [
    {
     "output_type": "stream",
     "name": "stdout",
     "text": [
      "Hola este es el valor 5 positivo\n"
     ]
    }
   ],
   "source": [
    "if x == 5:\n",
    "    print('Hola este es el valor',x,'positivo')"
   ]
  },
  {
   "cell_type": "code",
   "execution_count": 4,
   "metadata": {},
   "outputs": [
    {
     "output_type": "stream",
     "name": "stdout",
     "text": [
      "El valor  5  positivo\n"
     ]
    }
   ],
   "source": [
    "x = 5\n",
    "\n",
    "if x > 0:\n",
    "    print('El valor ', x, ' positivo')\n",
    "else:\n",
    "    pass"
   ]
  },
  {
   "cell_type": "code",
   "execution_count": 5,
   "metadata": {},
   "outputs": [
    {
     "output_type": "stream",
     "name": "stdout",
     "text": [
      "El valor  5  es impar\n"
     ]
    }
   ],
   "source": [
    "if x % 2 == 0:\n",
    "    print('El valor ', x, ' es par')\n",
    "else:\n",
    "    print('El valor ', x , ' es impar')"
   ]
  },
  {
   "cell_type": "markdown",
   "metadata": {},
   "source": [
    "### 1.2 if encadenados"
   ]
  },
  {
   "cell_type": "code",
   "execution_count": 4,
   "metadata": {},
   "outputs": [
    {
     "name": "stdout",
     "output_type": "stream",
     "text": [
      "x es menor que y\n"
     ]
    }
   ],
   "source": [
    "x = 5\n",
    "y = 10\n",
    "\n",
    "if x < y:\n",
    "    print('x es menor que y')\n",
    "elif x > y:\n",
    "    print('x es mayor que y')\n",
    "else: \n",
    "    print('x e y son iguales')"
   ]
  },
  {
   "cell_type": "markdown",
   "metadata": {},
   "source": [
    "### 1.3 if anidados"
   ]
  },
  {
   "cell_type": "code",
   "execution_count": 5,
   "metadata": {},
   "outputs": [
    {
     "name": "stdout",
     "output_type": "stream",
     "text": [
      "x es menor que y\n"
     ]
    }
   ],
   "source": [
    "if x == y:\n",
    "    print('x e y son iguales')\n",
    "else:\n",
    "    if x < y:\n",
    "        print('x es menor que y')\n",
    "    else: # x > y\n",
    "        print('x es mayor que y')"
   ]
  },
  {
   "cell_type": "markdown",
   "metadata": {},
   "source": [
    "# 2. BUCLES"
   ]
  },
  {
   "cell_type": "markdown",
   "metadata": {},
   "source": [
    "### 2.1 FOR"
   ]
  },
  {
   "cell_type": "code",
   "execution_count": 6,
   "metadata": {},
   "outputs": [
    {
     "output_type": "stream",
     "name": "stdout",
     "text": [
      "E\ns\nt\no\n \ne\ns\n \nu\nn\na\n \nf\nr\na\ns\ne\n"
     ]
    }
   ],
   "source": [
    "cadena = 'Esto es una frase'\n",
    "\n",
    "for palabra in cadena:\n",
    "    print(palabra)"
   ]
  },
  {
   "cell_type": "code",
   "execution_count": 7,
   "metadata": {},
   "outputs": [
    {
     "name": "stdout",
     "output_type": "stream",
     "text": [
      "0\n",
      "1\n",
      "2\n",
      "3\n",
      "4\n"
     ]
    }
   ],
   "source": [
    "secuencia = range(5)\n",
    "\n",
    "for sec in secuencia:\n",
    "    print(sec)"
   ]
  },
  {
   "cell_type": "code",
   "execution_count": 7,
   "metadata": {},
   "outputs": [
    {
     "output_type": "stream",
     "name": "stdout",
     "text": [
      "El item  0  es par, exponencial de dos  0 \n\nEl item  1  es impar, división entre dos  0.5 \n\nEl item  2  es par, exponencial de dos  4 \n\nEl item  3  es impar, división entre dos  1.5 \n\nEl item  4  es par, exponencial de dos  16 \n\nEl item  5  es impar, división entre dos  2.5 \n\nEl item  6  es par, exponencial de dos  36 \n\nEl item  7  es impar, división entre dos  3.5 \n\nEl item  8  es par, exponencial de dos  64 \n\nEl item  9  es impar, división entre dos  4.5 \n\nEl item  10  es par, exponencial de dos  100 \n\n"
     ]
    }
   ],
   "source": [
    "for item in range(11):\n",
    "    if item % 2 == 0:\n",
    "        print('El item ', item, ' es par, exponencial de dos ', item ** 2, '\\n')\n",
    "    else:\n",
    "        print('El item ', item, ' es impar, división entre dos ', item / 2, '\\n')"
   ]
  },
  {
   "cell_type": "code",
   "execution_count": 10,
   "metadata": {},
   "outputs": [
    {
     "output_type": "stream",
     "name": "stdout",
     "text": [
      "1  *  0  =  0\n1  *  1  =  1\n1  *  2  =  2\n1  *  3  =  3\n1  *  4  =  4\n1  *  5  =  5\n1  *  6  =  6\n1  *  7  =  7\n1  *  8  =  8\n1  *  9  =  9\n\n\n2  *  0  =  0\n2  *  1  =  2\n2  *  2  =  4\n2  *  3  =  6\n2  *  4  =  8\n2  *  5  =  10\n2  *  6  =  12\n2  *  7  =  14\n2  *  8  =  16\n2  *  9  =  18\n\n\n3  *  0  =  0\n3  *  1  =  3\n3  *  2  =  6\n3  *  3  =  9\n3  *  4  =  12\n3  *  5  =  15\n3  *  6  =  18\n3  *  7  =  21\n3  *  8  =  24\n3  *  9  =  27\n\n\n4  *  0  =  0\n4  *  1  =  4\n4  *  2  =  8\n4  *  3  =  12\n4  *  4  =  16\n4  *  5  =  20\n4  *  6  =  24\n4  *  7  =  28\n4  *  8  =  32\n4  *  9  =  36\n\n\n5  *  0  =  0\n5  *  1  =  5\n5  *  2  =  10\n5  *  3  =  15\n5  *  4  =  20\n5  *  5  =  25\n5  *  6  =  30\n5  *  7  =  35\n5  *  8  =  40\n5  *  9  =  45\n\n\n6  *  0  =  0\n6  *  1  =  6\n6  *  2  =  12\n6  *  3  =  18\n6  *  4  =  24\n6  *  5  =  30\n6  *  6  =  36\n6  *  7  =  42\n6  *  8  =  48\n6  *  9  =  54\n\n\n7  *  0  =  0\n7  *  1  =  7\n7  *  2  =  14\n7  *  3  =  21\n7  *  4  =  28\n7  *  5  =  35\n7  *  6  =  42\n7  *  7  =  49\n7  *  8  =  56\n7  *  9  =  63\n\n\n8  *  0  =  0\n8  *  1  =  8\n8  *  2  =  16\n8  *  3  =  24\n8  *  4  =  32\n8  *  5  =  40\n8  *  6  =  48\n8  *  7  =  56\n8  *  8  =  64\n8  *  9  =  72\n\n\n9  *  0  =  0\n9  *  1  =  9\n9  *  2  =  18\n9  *  3  =  27\n9  *  4  =  36\n9  *  5  =  45\n9  *  6  =  54\n9  *  7  =  63\n9  *  8  =  72\n9  *  9  =  81\n\n\n"
     ]
    }
   ],
   "source": [
    "for item in range(10):\n",
    "    if item == 0:\n",
    "        pass\n",
    "    else:\n",
    "        for multiplicador in range(10):\n",
    "            print(item, ' * ', multiplicador, ' = ', item * multiplicador)\n",
    "\n",
    "        print('\\n')"
   ]
  },
  {
   "cell_type": "markdown",
   "metadata": {},
   "source": [
    "### 2.2 WHILE"
   ]
  },
  {
   "cell_type": "code",
   "execution_count": 11,
   "metadata": {},
   "outputs": [
    {
     "output_type": "stream",
     "name": "stdout",
     "text": [
      "ERROR !\nERROR !\nERROR !\nERROR !\nERROR !\nERROR !\nERROR !\nERROR !\nERROR !\nLa variable a ya tiene un valor de  10\n"
     ]
    }
   ],
   "source": [
    "a = 1\n",
    "\n",
    "while a != 10:\n",
    "    print('ERROR !')\n",
    "    a += 1\n",
    "else:\n",
    "    print('La variable a ya tiene un valor de ', a)"
   ]
  },
  {
   "cell_type": "code",
   "execution_count": 12,
   "metadata": {},
   "outputs": [
    {
     "output_type": "stream",
     "name": "stdout",
     "text": [
      "La palabra introducida  hola  no es fin\n",
      "La palabra introducida  yo  no es fin\n",
      "fin\n"
     ]
    }
   ],
   "source": [
    "cad = input('Introduce una palabra ')\n",
    "\n",
    "while not cad == 'fin': # Equivalente a while cad != 'fin'\n",
    "    print('La palabra introducida ', cad, ' no es fin')\n",
    "    cad = input('Introduce una nueva palabra ')\n",
    "else:\n",
    "    print(cad)"
   ]
  },
  {
   "cell_type": "code",
   "execution_count": null,
   "metadata": {},
   "outputs": [],
   "source": []
  }
 ],
 "metadata": {
  "kernelspec": {
   "name": "python365jvsc74a57bd0b3ba2566441a7c06988d0923437866b63cedc61552a5af99d1f4fb67d367b25f",
   "display_name": "Python 3.6.5 64-bit (conda)"
  },
  "language_info": {
   "codemirror_mode": {
    "name": "ipython",
    "version": 3
   },
   "file_extension": ".py",
   "mimetype": "text/x-python",
   "name": "python",
   "nbconvert_exporter": "python",
   "pygments_lexer": "ipython3",
   "version": "3.6.5-final"
  }
 },
 "nbformat": 4,
 "nbformat_minor": 2
}